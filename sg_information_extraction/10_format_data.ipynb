{
 "cells": [
  {
   "cell_type": "code",
   "execution_count": 1,
   "id": "ab345e51",
   "metadata": {},
   "outputs": [],
   "source": [
    "import pandas as pd\n",
    "import numpy as np"
   ]
  },
  {
   "cell_type": "code",
   "execution_count": 2,
   "id": "a653176b",
   "metadata": {},
   "outputs": [],
   "source": [
    "def format_data(data):\n",
    "    data=data.assign(title_clean=data.title.replace(\"{\",\"\",regex=True).replace(\"}\",\"\",regex=True))\n",
    "    data=data.assign(abstract_clean=data.abstract.replace(\"{\",\"\",regex=True).replace(\"}\",\"\",regex=True).fillna(\"\"))\n",
    "    data=data.assign(acknowledgments_clean=data.acknowledgments.replace(\"{\",\"\",regex=True).replace(\"}\",\"\",regex=True).fillna(\"\"))\n",
    "\n",
    "    data=data.assign(abstract_for_prompt=np.where(data.abstract_clean!=\"\",\n",
    "                                                       \"Abstract: \"+data.abstract_clean,\"\"))\n",
    "\n",
    "    data=data.assign(acknowledgments_for_prompt=np.where(data.acknowledgments_clean!=\"\",\n",
    "                                                       \"\\nAcknowledgments: \"+data.acknowledgments_clean,\"\"))\n",
    "\n",
    "    data=data.assign(title_abstract_clean=data.title_clean+\". \"+data.abstract_clean)\n",
    "    return data"
   ]
  },
  {
   "cell_type": "code",
   "execution_count": 3,
   "id": "b26dcf7b",
   "metadata": {},
   "outputs": [],
   "source": [
    "def main():\n",
    "    data_path=\"../data/\"\n",
    "    outputs_path=\"../outputs/\"\n",
    "    df_positive=pd.read_csv(outputs_path+\"sg_classifier/all_positive_examples.csv\")\n",
    "    acks=pd.read_csv(data_path+\"pdfs_data/positives_acknowledgments.csv\")\n",
    "    df_test_ack=pd.read_csv(data_path+\"test_data/papers_ack.csv\")\n",
    "    \n",
    "    df_positive=df_positive.loc[:,['ID','title','abstract','url']].rename(columns={'abstract':'past_abstract'}).drop_duplicates()\n",
    "    acks=acks.loc[:,['title','abstract','year','acknowledgments']].drop_duplicates(subset=['title'])\n",
    "    positives=df_positive.merge(acks,on=['title'],how='left')\n",
    "    positives=positives.assign(abstract=np.where(positives.abstract.isna(),positives.past_abstract,positives.abstract))\n",
    "\n",
    "    positives=format_data(positives)\n",
    "    df_test_ack=format_data(df_test_ack)\n",
    "    \n",
    "    df_test_ack.to_csv(outputs_path+\"sg_ie/test_ready.csv\",index=False)\n",
    "    positives.to_csv(outputs_path+\"sg_ie/positives_ready.csv\",index=False)\n",
    "    \n",
    "if __name__ == '__main__':\n",
    "    main()"
   ]
  },
  {
   "cell_type": "code",
   "execution_count": null,
   "id": "3cec22f8",
   "metadata": {},
   "outputs": [],
   "source": []
  }
 ],
 "metadata": {
  "kernelspec": {
   "display_name": "Python 3 (ipykernel)",
   "language": "python",
   "name": "python3"
  },
  "language_info": {
   "codemirror_mode": {
    "name": "ipython",
    "version": 3
   },
   "file_extension": ".py",
   "mimetype": "text/x-python",
   "name": "python",
   "nbconvert_exporter": "python",
   "pygments_lexer": "ipython3",
   "version": "3.7.4"
  }
 },
 "nbformat": 4,
 "nbformat_minor": 5
}
