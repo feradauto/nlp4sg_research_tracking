{
 "cells": [
  {
   "cell_type": "code",
   "execution_count": 2,
   "id": "2fd5a515",
   "metadata": {},
   "outputs": [],
   "source": [
    "import time\n",
    "import os\n",
    "import pandas as pd\n",
    "import numpy as np\n",
    "import openai\n",
    "openai.api_key = os.getenv(\"OPENAI_API_KEY\")"
   ]
  },
  {
   "cell_type": "code",
   "execution_count": 2,
   "id": "513c6a5f",
   "metadata": {},
   "outputs": [],
   "source": [
    "data_path=\"../../data/\"\n",
    "output_path=\"../../outputs/\""
   ]
  },
  {
   "cell_type": "code",
   "execution_count": 3,
   "id": "391a8116",
   "metadata": {},
   "outputs": [],
   "source": [
    "positives=pd.read_csv(output_path+\"sg_ie/positives_ready.csv\")"
   ]
  },
  {
   "cell_type": "code",
   "execution_count": 4,
   "id": "1d90beba",
   "metadata": {},
   "outputs": [],
   "source": [
    "positives=positives.assign(abstract_for_prompt=positives.abstract_for_prompt.fillna(\"\"))\n",
    "positives=positives.assign(acknowledgments_for_prompt=positives.acknowledgments_for_prompt.fillna(\"\"))\n",
    "\n",
    "positives=positives.assign(paper_text=\"Title: \"+positives.title_clean+\"\\n\"+positives.abstract_for_prompt+\n",
    "                          positives.acknowledgments_for_prompt)"
   ]
  },
  {
   "cell_type": "code",
   "execution_count": 5,
   "id": "cda99a24",
   "metadata": {},
   "outputs": [],
   "source": [
    "ack_preprompt=\"\"\"Identify the organizations mentioned in the following paper. Respond with the organizations separated by commas. Answer \"No organizations\" if there aren't any organizations in the text:\"\"\"\n",
    "\n",
    "ack_postprompt=\"\"\"Which are the organizations mentioned?\"\"\""
   ]
  },
  {
   "cell_type": "code",
   "execution_count": 6,
   "id": "eccc73bb",
   "metadata": {},
   "outputs": [],
   "source": [
    "positives=positives.assign(org_prompt_text=ack_preprompt+\"\\n\"+positives.paper_text+\"\\n\"+ack_postprompt)"
   ]
  },
  {
   "cell_type": "markdown",
   "id": "1c383cf6",
   "metadata": {},
   "source": [
    "## cost estimation"
   ]
  },
  {
   "cell_type": "code",
   "execution_count": 19,
   "id": "ebe1a98e",
   "metadata": {},
   "outputs": [
    {
     "data": {
      "text/plain": [
       "1627921"
      ]
     },
     "execution_count": 19,
     "metadata": {},
     "output_type": "execute_result"
    }
   ],
   "source": [
    "np.sum(positives['org_prompt_text'].str.split().apply(len))"
   ]
  },
  {
   "cell_type": "code",
   "execution_count": null,
   "id": "816250fe",
   "metadata": {},
   "outputs": [],
   "source": [
    "$0.0600 / 1K tokens"
   ]
  },
  {
   "cell_type": "code",
   "execution_count": 21,
   "id": "30462927",
   "metadata": {},
   "outputs": [
    {
     "data": {
      "text/plain": [
       "(9183, 14)"
      ]
     },
     "execution_count": 21,
     "metadata": {},
     "output_type": "execute_result"
    }
   ],
   "source": [
    "positives.shape"
   ]
  },
  {
   "cell_type": "code",
   "execution_count": 22,
   "id": "e8540dd6",
   "metadata": {},
   "outputs": [
    {
     "data": {
      "text/plain": [
       "459150"
      ]
     },
     "execution_count": 22,
     "metadata": {},
     "output_type": "execute_result"
    }
   ],
   "source": [
    "9183*50"
   ]
  },
  {
   "cell_type": "code",
   "execution_count": null,
   "id": "b40befbe",
   "metadata": {},
   "outputs": [],
   "source": [
    "1627921"
   ]
  },
  {
   "cell_type": "code",
   "execution_count": 23,
   "id": "92251e44",
   "metadata": {},
   "outputs": [
    {
     "data": {
      "text/plain": [
       "166.96568"
      ]
     },
     "execution_count": 23,
     "metadata": {},
     "output_type": "execute_result"
    }
   ],
   "source": [
    "(((1627921+459150)*1000/750)/1000)*0.0600"
   ]
  },
  {
   "cell_type": "markdown",
   "id": "4098215f",
   "metadata": {},
   "source": [
    "## cost estimation"
   ]
  },
  {
   "cell_type": "code",
   "execution_count": 7,
   "id": "f2e395c0",
   "metadata": {},
   "outputs": [],
   "source": [
    "positives=positives.loc[~positives.acknowledgments_clean.isna()].reset_index(drop=True)"
   ]
  },
  {
   "cell_type": "code",
   "execution_count": 10,
   "id": "83774f38",
   "metadata": {},
   "outputs": [
    {
     "data": {
      "text/plain": [
       "472031"
      ]
     },
     "execution_count": 10,
     "metadata": {},
     "output_type": "execute_result"
    }
   ],
   "source": [
    "np.sum(positives['org_prompt_text'].str.split().apply(len))"
   ]
  },
  {
   "cell_type": "code",
   "execution_count": null,
   "id": "1f0d30c3",
   "metadata": {},
   "outputs": [],
   "source": [
    "$0.0600 / 1K tokens"
   ]
  },
  {
   "cell_type": "code",
   "execution_count": 11,
   "id": "e965f9e7",
   "metadata": {},
   "outputs": [
    {
     "data": {
      "text/plain": [
       "(2146, 15)"
      ]
     },
     "execution_count": 11,
     "metadata": {},
     "output_type": "execute_result"
    }
   ],
   "source": [
    "positives.shape"
   ]
  },
  {
   "cell_type": "code",
   "execution_count": 12,
   "id": "e44dca77",
   "metadata": {},
   "outputs": [
    {
     "data": {
      "text/plain": [
       "107300"
      ]
     },
     "execution_count": 12,
     "metadata": {},
     "output_type": "execute_result"
    }
   ],
   "source": [
    "2146*50"
   ]
  },
  {
   "cell_type": "code",
   "execution_count": null,
   "id": "4558b11a",
   "metadata": {},
   "outputs": [],
   "source": [
    "1627921"
   ]
  },
  {
   "cell_type": "code",
   "execution_count": 13,
   "id": "71f3cb8f",
   "metadata": {},
   "outputs": [
    {
     "data": {
      "text/plain": [
       "46.34648"
      ]
     },
     "execution_count": 13,
     "metadata": {},
     "output_type": "execute_result"
    }
   ],
   "source": [
    "(((472031+107300)*1000/750)/1000)*0.0600"
   ]
  },
  {
   "cell_type": "markdown",
   "id": "c2eddd01",
   "metadata": {},
   "source": [
    "## requests"
   ]
  },
  {
   "cell_type": "code",
   "execution_count": 8,
   "id": "110b09e7",
   "metadata": {},
   "outputs": [],
   "source": [
    "positives=positives.loc[~positives.acknowledgments_clean.isna()].reset_index(drop=True)"
   ]
  },
  {
   "cell_type": "code",
   "execution_count": null,
   "id": "1460824d",
   "metadata": {},
   "outputs": [],
   "source": [
    "for i,d in positives.iterrows():\n",
    "    input_prompt=d['org_prompt_text']\n",
    "    completion = openai.Completion.create(engine=\"text-davinci-002\", prompt=input_prompt,temperature=0,max_tokens=40)\n",
    "    positives.loc[i,'GPT3_response']=completion.choices[0].text\n",
    "    f = open(\"responses.txt\", \"a\")\n",
    "    f.write(d['org_prompt_text'])\n",
    "    f.write(completion.choices[0].text)\n",
    "    f.write(\"################################\")\n",
    "    f.write(\"\\n\")\n",
    "    f.close()\n",
    "    print(input_prompt)\n",
    "    print(completion.choices[0].text)\n",
    "    print(\"################################\")"
   ]
  },
  {
   "cell_type": "code",
   "execution_count": 10,
   "id": "27f3b778",
   "metadata": {},
   "outputs": [],
   "source": [
    "positives.to_csv(output_path+\"GPT3_responses_org.csv\",index=False)"
   ]
  },
  {
   "cell_type": "code",
   "execution_count": 16,
   "id": "98a1128d",
   "metadata": {},
   "outputs": [],
   "source": [
    "positives=positives.assign(clean_response=positives.GPT3_response.replace(\"\\n\",\"\",regex=True))\n",
    "\n",
    "positives=positives.assign(clean_response=positives.clean_response.str.split(\",\"))\n",
    "\n",
    "orgs=positives.loc[:,['ID','clean_response']]\n",
    "\n",
    "orgs=orgs.explode(\"clean_response\")\n",
    "\n",
    "orgs=orgs.rename(columns={'clean_response':'organization'})\n",
    "\n",
    "orgs=orgs.assign(organization=orgs.organization.str.lstrip().str.rstrip())"
   ]
  },
  {
   "cell_type": "code",
   "execution_count": 36,
   "id": "0735a297",
   "metadata": {},
   "outputs": [],
   "source": [
    "orgs.to_csv(output_path+\"organizations_GPT3.csv\",index=False)"
   ]
  },
  {
   "cell_type": "code",
   "execution_count": 35,
   "id": "62279179",
   "metadata": {},
   "outputs": [
    {
     "data": {
      "text/plain": [
       "No organizations                               770\n",
       "DARPA                                           95\n",
       "National Science Foundation                     68\n",
       "NSF                                             67\n",
       "National Institutes of Health                   43\n",
       "                                              ... \n",
       "MRC Skills Development Fellowship programme      1\n",
       "Kings College London                             1\n",
       "MR/S00310X/1                                     1\n",
       "UKRI Innovation Fellowship                       1\n",
       "King Saud University                             1\n",
       "Name: organization, Length: 2315, dtype: int64"
      ]
     },
     "execution_count": 35,
     "metadata": {},
     "output_type": "execute_result"
    }
   ],
   "source": [
    "orgs.organization.value_counts()"
   ]
  },
  {
   "cell_type": "code",
   "execution_count": null,
   "id": "5f58ee84",
   "metadata": {},
   "outputs": [],
   "source": []
  }
 ],
 "metadata": {
  "kernelspec": {
   "display_name": "Python 3 (ipykernel)",
   "language": "python",
   "name": "python3"
  },
  "language_info": {
   "codemirror_mode": {
    "name": "ipython",
    "version": 3
   },
   "file_extension": ".py",
   "mimetype": "text/x-python",
   "name": "python",
   "nbconvert_exporter": "python",
   "pygments_lexer": "ipython3",
   "version": "3.7.4"
  }
 },
 "nbformat": 4,
 "nbformat_minor": 5
}
